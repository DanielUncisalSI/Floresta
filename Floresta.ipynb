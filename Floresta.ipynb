{
 "cells": [
  {
   "cell_type": "code",
   "execution_count": 56,
   "metadata": {},
   "outputs": [],
   "source": [
    "import pandas as pd\n",
    "base = pd.read_csv('adult.csv')\n",
    "from sklearn.metrics import confusion_matrix\n",
    "from sklearn.ensemble import RandomForestClassifier\n",
    "                                #validação cruzada_score\n",
    "from sklearn.model_selection import cross_val_score\n",
    "                                #validação cruzada_predicao\n",
    "from sklearn.model_selection import cross_val_predict"
   ]
  },
  {
   "cell_type": "code",
   "execution_count": 68,
   "metadata": {},
   "outputs": [],
   "source": [
    "atributos = base.iloc[:,0:10].values\n",
    "rotulo = base.iloc[:,11].values "
   ]
  },
  {
   "cell_type": "code",
   "execution_count": 3,
   "metadata": {},
   "outputs": [],
   "source": [
    "classificador = RandomForestClassifier(n_estimators=40) #n_estimatores = numero de arvores da floresta"
   ]
  },
  {
   "cell_type": "code",
   "execution_count": 22,
   "metadata": {},
   "outputs": [],
   "source": [
    "#predição da validação cruzada\n",
    "y_pred = cross_val_predict(classificador,atributos,rotulo, cv=10) #cv =  Kfold =10"
   ]
  },
  {
   "cell_type": "code",
   "execution_count": 26,
   "metadata": {},
   "outputs": [
    {
     "name": "stdout",
     "output_type": "stream",
     "text": [
      "[1 2 1 ... 1 1 2] [1 1 1 ... 1 1 2]\n"
     ]
    }
   ],
   "source": [
    "print (y_pred,rotulo)#print da predição da validação cruzada com o rutulo"
   ]
  },
  {
   "cell_type": "code",
   "execution_count": 10,
   "metadata": {},
   "outputs": [
    {
     "name": "stdout",
     "output_type": "stream",
     "text": [
      "[[20234  3131]\n",
      " [ 2420  4377]]\n"
     ]
    }
   ],
   "source": [
    "matriz = confusion_matrix(y_pred,rotulo)\n",
    "print(matriz)\n",
    "#trueN   falseN   #trueN = era 0 e foi 0 - falseN = era 1 e foi 0 "
   ]
  },
  {
   "cell_type": "code",
   "execution_count": 11,
   "metadata": {},
   "outputs": [],
   "source": [
    "#falsoP  trueP   #falseP = era 1 e foi 0 -   trueP = era 1 e foi 1 "
   ]
  },
  {
   "cell_type": "code",
   "execution_count": 12,
   "metadata": {},
   "outputs": [],
   "source": [
    "#True Negativo\n",
    "TN = matriz[0,0]\n",
    "#False Negativo\n",
    "FN = matriz[1,0]\n",
    "#False Positivo\n",
    "FP = matriz[0,1]\n",
    "#True Positivo\n",
    "TP = matriz[1,1]"
   ]
  },
  {
   "cell_type": "code",
   "execution_count": 13,
   "metadata": {},
   "outputs": [
    {
     "name": "stdout",
     "output_type": "stream",
     "text": [
      "0.8159604800742656\n"
     ]
    }
   ],
   "source": [
    "#imprindo a classificação da Accuracy\n",
    "print((TP+TN)/(TP + TN + FP + FN))"
   ]
  },
  {
   "cell_type": "code",
   "execution_count": 14,
   "metadata": {},
   "outputs": [
    {
     "name": "stdout",
     "output_type": "stream",
     "text": [
      "0.6439605708400765\n"
     ]
    }
   ],
   "source": [
    "#imprimindo a sensibilidade ou seja (O quão sensivel o classificador é para detectar instancia TP)\n",
    "print(TP / (TP+FN))"
   ]
  },
  {
   "cell_type": "code",
   "execution_count": 15,
   "metadata": {},
   "outputs": [
    {
     "name": "stdout",
     "output_type": "stream",
     "text": [
      "0.8659961480847421\n"
     ]
    }
   ],
   "source": [
    "#imprindo a especificidade ou seja (O quão especifico o classificador é na previsão de instancias positivas)\n",
    "print(TN/(TN + FP))"
   ]
  },
  {
   "cell_type": "code",
   "execution_count": 16,
   "metadata": {},
   "outputs": [
    {
     "name": "stdout",
     "output_type": "stream",
     "text": [
      "0.13400385191525788\n"
     ]
    }
   ],
   "source": [
    "#taxa de falsos positivos (COM QUE FREQUENCIA A PREVISÃO ESTÁ INCORRETA)\n",
    "print(FP / (TN +FP))"
   ]
  },
  {
   "cell_type": "code",
   "execution_count": 17,
   "metadata": {},
   "outputs": [
    {
     "name": "stdout",
     "output_type": "stream",
     "text": [
      "0.5829781566329248\n"
     ]
    }
   ],
   "source": [
    "#precisão do classificador ao prever instância positiva\n",
    "print(TP / (TP +FP))"
   ]
  },
  {
   "cell_type": "code",
   "execution_count": 18,
   "metadata": {},
   "outputs": [],
   "source": [
    "#diferença de Acuraci e predict é a previsão = acuraci = precisão"
   ]
  },
  {
   "cell_type": "code",
   "execution_count": null,
   "metadata": {},
   "outputs": [],
   "source": []
  }
 ],
 "metadata": {
  "kernelspec": {
   "display_name": "Python 3",
   "language": "python",
   "name": "python3"
  },
  "language_info": {
   "codemirror_mode": {
    "name": "ipython",
    "version": 3
   },
   "file_extension": ".py",
   "mimetype": "text/x-python",
   "name": "python",
   "nbconvert_exporter": "python",
   "pygments_lexer": "ipython3",
   "version": "3.7.3"
  }
 },
 "nbformat": 4,
 "nbformat_minor": 2
}
